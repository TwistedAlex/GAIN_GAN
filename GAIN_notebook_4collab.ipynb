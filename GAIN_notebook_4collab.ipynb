{
 "cells": [
  {
   "cell_type": "code",
   "execution_count": 2,
   "metadata": {
    "id": "29AjQjLKQ950"
   },
   "outputs": [],
   "source": [
    "# Please do not change this cell because some hidden tests might depend on it.\n",
    "import os\n",
    " \n",
    "def shell(commands, warn=True):\n",
    "    \"\"\"Executes the string `commands` as a sequence of shell commands.\n",
    "     \n",
    "       Prints the result to stdout and returns the exit status. \n",
    "       Provides a printed warning on non-zero exit status unless `warn` \n",
    "       flag is unset.\n",
    "    \"\"\"\n",
    "    file = os.popen(commands)\n",
    "    print (file.read().rstrip('\\n'))\n",
    "    exit_status = file.close()\n",
    "    if warn and exit_status != None:\n",
    "        print(f\"Completed with errors. Exit status: {exit_status}\\n\")\n",
    "    return exit_status"
   ]
  },
  {
   "cell_type": "code",
   "execution_count": 3,
   "metadata": {
    "id": "OEjJuj_wVGCh"
   },
   "outputs": [],
   "source": [
    "# from google.colab import drive\n",
    "# drive.mount('/content/drive')"
   ]
  },
  {
   "cell_type": "code",
   "execution_count": 4,
   "metadata": {
    "colab": {
     "base_uri": "https://localhost:8080/"
    },
    "id": "aDVF1vt_aXxZ",
    "outputId": "154a5acb-1cfc-4cae-c3f7-a461e7a2dc01"
   },
   "outputs": [
    {
     "name": "stdout",
     "output_type": "stream",
     "text": [
      "\n"
     ]
    }
   ],
   "source": [
    "shell(\"\"\"\n",
    " git clone https://github.com/ilyak93/GAIN-pytorch\n",
    " mv ./GAIN-pytorch*/* ./\n",
    " rm -r GAIN-pytorch\n",
    "\n",
    "\"\"\")"
   ]
  },
  {
   "cell_type": "code",
   "execution_count": 5,
   "metadata": {
    "id": "6tRR4H5taXxK"
   },
   "outputs": [],
   "source": [
    " \n",
    " \n",
    "# Otter grader does not handle ! commands well, so we define and use our\n",
    "# own function to execute shell commands.\n",
    " \n",
    " \n",
    " \n",
    "# !pip install -r requirements.txt\n"
   ]
  },
  {
   "cell_type": "markdown",
   "metadata": {
    "id": "xQVfC9hHsC5j"
   },
   "source": [
    "$$\n",
    "\\renewcommand{\\vect}[1]{\\mathbf{#1}}\n",
    "\\renewcommand{\\cnt}[1]{\\sharp(#1)}\n",
    "\\renewcommand{\\argmax}[1]{\\underset{#1}{\\operatorname{argmax}}}\n",
    "\\renewcommand{\\softmax}{\\operatorname{softmax}}\n",
    "\\renewcommand{\\Prob}{\\Pr}\n",
    "\\renewcommand{\\given}{\\,|\\,}\n",
    "$$"
   ]
  },
  {
   "cell_type": "code",
   "execution_count": 6,
   "metadata": {
    "id": "4Qovn_p59m_U"
   },
   "outputs": [
    {
     "name": "stdout",
     "output_type": "stream",
     "text": [
      "\n"
     ]
    }
   ],
   "source": [
    "# Download needed files and scripts\n",
    "shell(\"\"\"\n",
    " nvidia-smi\n",
    "\"\"\")\n",
    "\n"
   ]
  },
  {
   "cell_type": "code",
   "execution_count": 7,
   "metadata": {
    "pycharm": {
     "name": "#%%\n"
    }
   },
   "outputs": [
    {
     "name": "stdout",
     "output_type": "stream",
     "text": [
      "<module 'torch.version' from 'D:\\\\Users\\\\muzihuole\\\\Anaconda3\\\\envs\\\\GANNEW\\\\lib\\\\site-packages\\\\torch\\\\version.py'>\n",
      "1.8.1\n",
      "11.1\n",
      "8005\n"
     ]
    }
   ],
   "source": [
    "import torch\n",
    "print(torch.version)\n",
    "print(torch.__version__)\n",
    "print(torch.version.cuda)\n",
    "print(torch.backends.cudnn.version())"
   ]
  },
  {
   "cell_type": "code",
   "execution_count": 8,
   "metadata": {
    "pycharm": {
     "name": "#%%\n"
    }
   },
   "outputs": [],
   "source": [
    "torch.cuda.empty_cache()\n",
    "from datetime import datetime\n",
    "#and the access its now method simpler\n",
    "d1 = datetime.now()"
   ]
  },
  {
   "cell_type": "code",
   "execution_count": 9,
   "metadata": {
    "id": "z0fem6lekoun"
   },
   "outputs": [
    {
     "name": "stdout",
     "output_type": "stream",
     "text": [
      "torch.Size([])\n"
     ]
    },
    {
     "data": {
      "text/plain": [
       "tensor(1)"
      ]
     },
     "execution_count": 9,
     "metadata": {},
     "output_type": "execute_result"
    }
   ],
   "source": [
    "tensor_mask = torch.tensor(-1)\n",
    "torch.cuda.is_available()\n",
    "print(tensor_mask.shape)\n",
    "torch.pow(0 - tensor_mask, 2)"
   ]
  },
  {
   "cell_type": "markdown",
   "metadata": {
    "id": "E0klXvF8e1pX"
   },
   "source": [
    "Reproducing results of the paper:"
   ]
  },
  {
   "cell_type": "code",
   "execution_count": 17,
   "metadata": {
    "id": "uXvILihcWC9Z"
   },
   "outputs": [],
   "source": [
    "%load_ext tensorboard"
   ]
  },
  {
   "cell_type": "code",
   "execution_count": 11,
   "metadata": {
    "id": "lBpgQgbeWZJc"
   },
   "outputs": [
    {
     "data": {
      "text/html": [
       "\n",
       "      <iframe id=\"tensorboard-frame-b79762aef5406a1e\" width=\"100%\" height=\"800\" frameborder=\"0\">\n",
       "      </iframe>\n",
       "      <script>\n",
       "        (function() {\n",
       "          const frame = document.getElementById(\"tensorboard-frame-b79762aef5406a1e\");\n",
       "          const url = new URL(\"/\", window.location);\n",
       "          const port = 6009;\n",
       "          if (port) {\n",
       "            url.port = port;\n",
       "          }\n",
       "          frame.src = url;\n",
       "        })();\n",
       "      </script>\n",
       "    "
      ],
      "text/plain": [
       "<IPython.core.display.HTML object>"
      ]
     },
     "metadata": {},
     "output_type": "display_data"
    }
   ],
   "source": [
    "%tensorboard --port=6009  --samples_per_plugin images=999999,text=999999 --logdir=E:/workplace/GAIN-pytorch-main/logs/without_grad_2022-04-08_11-47-03"
   ]
  },
  {
   "cell_type": "code",
   "execution_count": null,
   "metadata": {
    "pycharm": {
     "name": "#%%\n"
    }
   },
   "outputs": [],
   "source": []
  },
  {
   "cell_type": "code",
   "execution_count": null,
   "metadata": {
    "pycharm": {
     "name": "#%%\n"
    }
   },
   "outputs": [],
   "source": [
    "%run main_GAIN_MedT.py --batchsize=20 --total_epochs=50 --nepoch=6000 --nepoch_am=100 --nepoch_ex=1 \\\n",
    "         --masks_to_use=1 --lr=0.0001 --pos_to_write_train=50 --neg_to_write_train=20 \\\n",
    "\t\t --pos_to_write_test=50 --neg_to_write_test=50 --log_name=ex_1_all --cl_weight=1 \\\n",
    "\t\t --am_weight=1 --ex_weight=1 ----am_on_all=1 --grad_magnitude=1 --test_before_train=0 \\\n",
    "\t\t --batch_pos_dist=0.25 --input_dir=C:/MDT_dataset/SB3_ulcers_mined_roi_mult/ \\\n",
    "\t\t --output_dir=./ --checkpoint_name=ex_1_all"
   ]
  },
  {
   "cell_type": "code",
   "execution_count": null,
   "metadata": {
    "id": "0PQjZwK4baph"
   },
   "outputs": [
    {
     "name": "stderr",
     "output_type": "stream",
     "text": [
      "D:\\Users\\muzihuole\\Anaconda3\\envs\\GANNEW\\lib\\site-packages\\skimage\\io\\manage_plugins.py:23: UserWarning: Your installed pillow version is < 7.1.0. Several security issues (CVE-2020-11538, CVE-2020-10379, CVE-2020-10994, CVE-2020-10177) have been fixed in pillow 7.1.0 or higher. We recommend to upgrade this library.\n",
      "  from .collection import imread_collection_wrapper\n"
     ]
    },
    {
     "name": "stdout",
     "output_type": "stream",
     "text": [
      "rootE:/workplace/GAIN-pytorch-main/VOC-dataset/VOCdevkit\\VOC2012\n",
      "Register forward hook !\n",
      "Register backward hook !\n",
      "Started\n"
     ]
    },
    {
     "name": "stderr",
     "output_type": "stream",
     "text": [
      "D:\\Users\\muzihuole\\Anaconda3\\envs\\GANNEW\\lib\\site-packages\\torch\\nn\\modules\\module.py:795: UserWarning: Using a non-full backward hook when the forward contains multiple autograd Nodes is deprecated and will be removed in future versions. This hook will be missing some grad_input. Please use register_full_backward_hook to get the documented behavior.\n",
      "  warnings.warn(\"Using a non-full backward hook when the forward contains multiple autograd Nodes \"\n",
      "D:\\Users\\muzihuole\\Anaconda3\\envs\\GANNEW\\lib\\site-packages\\torch\\nn\\functional.py:3672: UserWarning: nn.functional.upsample_bilinear is deprecated. Use nn.functional.interpolate instead.\n",
      "  warnings.warn(\"nn.functional.upsample_bilinear is deprecated. Use nn.functional.interpolate instead.\")\n",
      "D:\\Users\\muzihuole\\Anaconda3\\envs\\GANNEW\\lib\\site-packages\\torch\\nn\\functional.py:1709: UserWarning: nn.functional.sigmoid is deprecated. Use torch.sigmoid instead.\n",
      "  warnings.warn(\"nn.functional.sigmoid is deprecated. Use torch.sigmoid instead.\")\n",
      "E:\\workplace\\GAIN-pytorch-main\\main_GAIN_VOC.py:299: UserWarning: Implicit dimension choice for softmax has been deprecated. Change the call to include dim=X as an argument.\n",
      "  y_scores = nn.Softmax()(logits_cl[t].detach())\n",
      "E:\\workplace\\GAIN-pytorch-main\\models\\batch_GAIN_VOC.py:142: UserWarning: Implicit dimension choice for softmax has been deprecated. Change the call to include dim=X as an argument.\n",
      "  pred = F.softmax(logits_cl).argmax(dim=1)\n",
      "E:\\workplace\\GAIN-pytorch-main\\main_GAIN_VOC.py:385: UserWarning: Implicit dimension choice for softmax has been deprecated. Change the call to include dim=X as an argument.\n",
      "  y_scores = nn.Softmax()(logits_cl[0].detach())\n"
     ]
    },
    {
     "name": "stdout",
     "output_type": "stream",
     "text": [
      "finished epoch number:\n",
      "0\n",
      "finished epoch number:\n",
      "1\n",
      "finished epoch number:\n",
      "2\n",
      "finished epoch number:\n",
      "3\n"
     ]
    }
   ],
   "source": [
    "%run main_GAIN_VOC.py --grads_off=0 --npretrain=5 --dataset_path=E:/workplace/GAIN-pytorch-main/VOC-dataset/ --logging_path=E:/workplace/GAIN-pytorch-main/logs/ --logging_name=without_grad --device=cuda:0 --checkpoint_file_path_save=E:/workplace/GAIN-pytorch-main/saveHistory/ --checkpoint_nepoch=1 --nepoch=5 --npretrain=1"
   ]
  },
  {
   "cell_type": "markdown",
   "metadata": {
    "id": "cp5KW9JKJBuC"
   },
   "source": [
    "Clean all the files after an update to your repo (if you did one), without affecting your drive (unmounting it temporary) and reclone them."
   ]
  },
  {
   "cell_type": "code",
   "execution_count": 7,
   "metadata": {
    "colab": {
     "base_uri": "https://localhost:8080/"
    },
    "id": "wYPxa25gXp0b",
    "outputId": "4ae63562-807a-496c-bcfa-13ccaba6d01e"
   },
   "outputs": [
    {
     "name": "stdout",
     "output_type": "stream",
     "text": [
      "Mounted at /content/drive\n",
      "\n"
     ]
    }
   ],
   "source": [
    "from google.colab import drive\n",
    "drive.flush_and_unmount()\n",
    "\n",
    "!rm -r ./*\n",
    "\n",
    "\n",
    "from google.colab import drive\n",
    "drive.mount('/content/drive')\n",
    "\n",
    "shell(\"\"\"\n",
    " git clone https://github.com/ilyak93/GAIN-pytorch/\n",
    " mv ./GAIN-pytorch*/* ./\n",
    " rm -r GAIN-pytorch\n",
    "\n",
    "\"\"\")\n"
   ]
  }
 ],
 "metadata": {
  "accelerator": "GPU",
  "colab": {
   "collapsed_sections": [],
   "machine_shape": "hm",
   "name": "GAIN_notebook.ipynb",
   "provenance": []
  },
  "kernelspec": {
   "display_name": "Python 3 (ipykernel)",
   "language": "python",
   "name": "python3"
  },
  "language_info": {
   "codemirror_mode": {
    "name": "ipython",
    "version": 3
   },
   "file_extension": ".py",
   "mimetype": "text/x-python",
   "name": "python",
   "nbconvert_exporter": "python",
   "pygments_lexer": "ipython3",
   "version": "3.7.7"
  },
  "title": "236299 Project Segment 3: Parsing – The CKY Algorithm"
 },
 "nbformat": 4,
 "nbformat_minor": 1
}