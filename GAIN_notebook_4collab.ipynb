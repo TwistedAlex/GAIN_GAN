{
 "cells": [
  {
   "cell_type": "code",
   "execution_count": 5,
   "metadata": {
    "id": "29AjQjLKQ950"
   },
   "outputs": [],
   "source": [
    "# Please do not change this cell because some hidden tests might depend on it.\n",
    "import os\n",
    " \n",
    "def shell(commands, warn=True):\n",
    "    \"\"\"Executes the string `commands` as a sequence of shell commands.\n",
    "     \n",
    "       Prints the result to stdout and returns the exit status. \n",
    "       Provides a printed warning on non-zero exit status unless `warn` \n",
    "       flag is unset.\n",
    "    \"\"\"\n",
    "    file = os.popen(commands)\n",
    "    print (file.read().rstrip('\\n'))\n",
    "    exit_status = file.close()\n",
    "    if warn and exit_status != None:\n",
    "        print(f\"Completed with errors. Exit status: {exit_status}\\n\")\n",
    "    return exit_status"
   ]
  },
  {
   "cell_type": "code",
   "execution_count": 6,
   "metadata": {
    "id": "OEjJuj_wVGCh"
   },
   "outputs": [],
   "source": [
    "# from google.colab import drive\n",
    "# drive.mount('/content/drive')"
   ]
  },
  {
   "cell_type": "code",
   "execution_count": 7,
   "metadata": {
    "colab": {
     "base_uri": "https://localhost:8080/"
    },
    "id": "aDVF1vt_aXxZ",
    "outputId": "154a5acb-1cfc-4cae-c3f7-a461e7a2dc01"
   },
   "outputs": [
    {
     "name": "stdout",
     "output_type": "stream",
     "text": [
      "\n"
     ]
    }
   ],
   "source": [
    "shell(\"\"\"\n",
    " git clone https://github.com/ilyak93/GAIN-pytorch\n",
    " mv ./GAIN-pytorch*/* ./\n",
    " rm -r GAIN-pytorch\n",
    "\n",
    "\"\"\")"
   ]
  },
  {
   "cell_type": "code",
   "execution_count": 8,
   "metadata": {
    "id": "6tRR4H5taXxK"
   },
   "outputs": [],
   "source": [
    " \n",
    " \n",
    "# Otter grader does not handle ! commands well, so we define and use our\n",
    "# own function to execute shell commands.\n",
    " \n",
    " \n",
    " \n",
    "# !pip install -r requirements.txt\n"
   ]
  },
  {
   "cell_type": "markdown",
   "metadata": {
    "id": "xQVfC9hHsC5j"
   },
   "source": [
    "$$\n",
    "\\renewcommand{\\vect}[1]{\\mathbf{#1}}\n",
    "\\renewcommand{\\cnt}[1]{\\sharp(#1)}\n",
    "\\renewcommand{\\argmax}[1]{\\underset{#1}{\\operatorname{argmax}}}\n",
    "\\renewcommand{\\softmax}{\\operatorname{softmax}}\n",
    "\\renewcommand{\\Prob}{\\Pr}\n",
    "\\renewcommand{\\given}{\\,|\\,}\n",
    "$$"
   ]
  },
  {
   "cell_type": "code",
   "execution_count": 9,
   "metadata": {
    "id": "4Qovn_p59m_U"
   },
   "outputs": [
    {
     "name": "stdout",
     "output_type": "stream",
     "text": [
      "\n"
     ]
    }
   ],
   "source": [
    "# Download needed files and scripts\n",
    "shell(\"\"\"\n",
    " nvidia-smi\n",
    "\"\"\")\n",
    "\n"
   ]
  },
  {
   "cell_type": "code",
   "execution_count": 10,
   "metadata": {
    "pycharm": {
     "name": "#%%\n"
    }
   },
   "outputs": [
    {
     "name": "stdout",
     "output_type": "stream",
     "text": [
      "<module 'torch.version' from 'D:\\\\Users\\\\muzihuole\\\\Anaconda3\\\\envs\\\\GANNEW\\\\lib\\\\site-packages\\\\torch\\\\version.py'>\n",
      "1.8.1\n",
      "11.1\n",
      "8005\n"
     ]
    }
   ],
   "source": [
    "import torch\n",
    "print(torch.version)\n",
    "print(torch.__version__)\n",
    "print(torch.version.cuda)\n",
    "print(torch.backends.cudnn.version())"
   ]
  },
  {
   "cell_type": "code",
   "execution_count": 13,
   "metadata": {},
   "outputs": [
    {
     "name": "stdout",
     "output_type": "stream",
     "text": [
      "[]\n"
     ]
    }
   ],
   "source": [
    "%run main_toFreq.py"
   ]
  },
  {
   "cell_type": "code",
   "execution_count": null,
   "metadata": {
    "pycharm": {
     "is_executing": true,
     "name": "#%%\n"
    }
   },
   "outputs": [],
   "source": [
    "import glob\n",
    "from os.path import join as pjoin\n",
    "all_files = sorted(glob.glob(pjoin(pjoin(\"E:/workplace/GAIN-pytorch-main/VOC-dataset/VOCdevkit/VOC2012\", \"SegmentationClass/pre_encoded\"), '*.png')))\n",
    "all_files = [\n",
    "            os.path.splitext(os.path.split(f)[-1])[0] for f in all_files\n",
    "        ]\n",
    "print(\"2007_000256\" in all_files)\n",
    "all_files_preencode = sorted(glob.glob(pjoin(pjoin(\"E:/workplace/GAIN-pytorch-main/VOC-dataset/VOCdevkit/VOC2012\", \"JPEGImages\"), '*.jpg')))\n",
    "all_files_preencode = [\n",
    "            os.path.splitext(os.path.split(f)[-1])[0] for f in all_files_preencode\n",
    "        ]\n",
    "all_files = [\n",
    "                f for f in all_files if (f in all_files_preencode)\n",
    "            ]\n",
    "# print(all_files)"
   ]
  },
  {
   "cell_type": "code",
   "execution_count": 13,
   "metadata": {
    "id": "z0fem6lekoun"
   },
   "outputs": [
    {
     "data": {
      "text/plain": [
       "True"
      ]
     },
     "execution_count": 13,
     "metadata": {},
     "output_type": "execute_result"
    }
   ],
   "source": [
    "torch.cuda.is_available()"
   ]
  },
  {
   "cell_type": "markdown",
   "metadata": {
    "id": "E0klXvF8e1pX"
   },
   "source": [
    "Reproducing results of the paper:"
   ]
  },
  {
   "cell_type": "code",
   "execution_count": 2,
   "metadata": {
    "id": "uXvILihcWC9Z"
   },
   "outputs": [
    {
     "name": "stdout",
     "output_type": "stream",
     "text": [
      "The tensorboard extension is already loaded. To reload it, use:\n",
      "  %reload_ext tensorboard\n"
     ]
    }
   ],
   "source": [
    "%load_ext tensorboard"
   ]
  },
  {
   "cell_type": "code",
   "execution_count": 3,
   "metadata": {
    "id": "lBpgQgbeWZJc"
   },
   "outputs": [
    {
     "data": {
      "text/html": [
       "\n",
       "      <iframe id=\"tensorboard-frame-fcd809321fdfdbff\" width=\"100%\" height=\"800\" frameborder=\"0\">\n",
       "      </iframe>\n",
       "      <script>\n",
       "        (function() {\n",
       "          const frame = document.getElementById(\"tensorboard-frame-fcd809321fdfdbff\");\n",
       "          const url = new URL(\"/\", window.location);\n",
       "          const port = 6009;\n",
       "          if (port) {\n",
       "            url.port = port;\n",
       "          }\n",
       "          frame.src = url;\n",
       "        })();\n",
       "      </script>\n",
       "    "
      ],
      "text/plain": [
       "<IPython.core.display.HTML object>"
      ]
     },
     "metadata": {},
     "output_type": "display_data"
    }
   ],
   "source": [
    "%tensorboard --port=6009  --samples_per_plugin images=999999,text=999999 --logdir=E:/workplace/GAIN-pytorch-main/logs/without_grad_2022-04-18_14-39-48"
   ]
  },
  {
   "cell_type": "code",
   "execution_count": 3,
   "metadata": {
    "pycharm": {
     "name": "#%%\n"
    }
   },
   "outputs": [
    {
     "data": {
      "text/html": [
       "\n",
       "      <iframe id=\"tensorboard-frame-160d884806ff4b34\" width=\"100%\" height=\"800\" frameborder=\"0\">\n",
       "      </iframe>\n",
       "      <script>\n",
       "        (function() {\n",
       "          const frame = document.getElementById(\"tensorboard-frame-160d884806ff4b34\");\n",
       "          const url = new URL(\"/\", window.location);\n",
       "          const port = 6009;\n",
       "          if (port) {\n",
       "            url.port = port;\n",
       "          }\n",
       "          frame.src = url;\n",
       "        })();\n",
       "      </script>\n",
       "    "
      ],
      "text/plain": [
       "<IPython.core.display.HTML object>"
      ]
     },
     "metadata": {},
     "output_type": "display_data"
    }
   ],
   "source": [
    "%tensorboard --port=6009  --samples_per_plugin images=999999,text=999999 --logdir=E:/workplace/GAIN-pytorch-main/logs/without_grad_2022-04-24_10-03-13"
   ]
  },
  {
   "cell_type": "code",
   "execution_count": 2,
   "metadata": {},
   "outputs": [
    {
     "data": {
      "text/html": [
       "\n",
       "      <iframe id=\"tensorboard-frame-c0bf1a0887b7f5b2\" width=\"100%\" height=\"800\" frameborder=\"0\">\n",
       "      </iframe>\n",
       "      <script>\n",
       "        (function() {\n",
       "          const frame = document.getElementById(\"tensorboard-frame-c0bf1a0887b7f5b2\");\n",
       "          const url = new URL(\"/\", window.location);\n",
       "          const port = 6009;\n",
       "          if (port) {\n",
       "            url.port = port;\n",
       "          }\n",
       "          frame.src = url;\n",
       "        })();\n",
       "      </script>\n",
       "    "
      ],
      "text/plain": [
       "<IPython.core.display.HTML object>"
      ]
     },
     "metadata": {},
     "output_type": "display_data"
    }
   ],
   "source": [
    "%tensorboard --port=6009  --samples_per_plugin images=999999,text=999999 --logdir=E:/workplace/GAIN-pytorch-main/logs/without_grad_2022-04-25_15-27-37"
   ]
  },
  {
   "cell_type": "code",
   "execution_count": null,
   "metadata": {
    "pycharm": {
     "name": "#%%\n"
    }
   },
   "outputs": [],
   "source": [
    "%run main_GAIN_MedT.py --batchsize=20 --total_epochs=50 --nepoch=6000 --nepoch_am=100 --nepoch_ex=1 \\\n",
    "         --masks_to_use=1 --lr=0.0001 --pos_to_write_train=50 --neg_to_write_train=20 \\\n",
    "\t\t --pos_to_write_test=50 --neg_to_write_test=50 --log_name=ex_1_all --cl_weight=1 \\\n",
    "\t\t --am_weight=1 --ex_weight=1 ----am_on_all=1 --grad_magnitude=1 --test_before_train=0 \\\n",
    "\t\t --batch_pos_dist=0.25 --input_dir=C:/MDT_dataset/SB3_ulcers_mined_roi_mult/ \\\n",
    "\t\t --output_dir=./ --checkpoint_name=ex_1_all"
   ]
  },
  {
   "cell_type": "code",
   "execution_count": 25,
   "metadata": {},
   "outputs": [],
   "source": [
    "torch.cuda.empty_cache()"
   ]
  },
  {
   "cell_type": "code",
   "execution_count": null,
   "metadata": {
    "id": "0PQjZwK4baph",
    "pycharm": {
     "is_executing": true
    }
   },
   "outputs": [
    {
     "name": "stderr",
     "output_type": "stream",
     "text": [
      "D:\\Users\\muzihuole\\Anaconda3\\envs\\GANNEW\\lib\\site-packages\\skimage\\io\\manage_plugins.py:23: UserWarning: Your installed pillow version is < 7.1.0. Several security issues (CVE-2020-11538, CVE-2020-10379, CVE-2020-10994, CVE-2020-10177) have been fixed in pillow 7.1.0 or higher. We recommend to upgrade this library.\n",
      "  from .collection import imread_collection_wrapper\n"
     ]
    },
    {
     "name": "stdout",
     "output_type": "stream",
     "text": [
      "Register forward hook !\n",
      "Register backward hook !\n",
      "Started\n",
      "0\n",
      "5\n",
      "enter epoch\n",
      "before sampling\n",
      "enter sampling\n"
     ]
    },
    {
     "name": "stderr",
     "output_type": "stream",
     "text": [
      "D:\\Users\\muzihuole\\Anaconda3\\envs\\GANNEW\\lib\\site-packages\\torch\\nn\\modules\\module.py:795: UserWarning: Using a non-full backward hook when the forward contains multiple autograd Nodes is deprecated and will be removed in future versions. This hook will be missing some grad_input. Please use register_full_backward_hook to get the documented behavior.\n",
      "  warnings.warn(\"Using a non-full backward hook when the forward contains multiple autograd Nodes \"\n",
      "D:\\Users\\muzihuole\\Anaconda3\\envs\\GANNEW\\lib\\site-packages\\torch\\nn\\functional.py:3672: UserWarning: nn.functional.upsample_bilinear is deprecated. Use nn.functional.interpolate instead.\n",
      "  warnings.warn(\"nn.functional.upsample_bilinear is deprecated. Use nn.functional.interpolate instead.\")\n",
      "D:\\Users\\muzihuole\\Anaconda3\\envs\\GANNEW\\lib\\site-packages\\torch\\nn\\functional.py:1709: UserWarning: nn.functional.sigmoid is deprecated. Use torch.sigmoid instead.\n",
      "  warnings.warn(\"nn.functional.sigmoid is deprecated. Use torch.sigmoid instead.\")\n",
      "E:\\workplace\\GAIN-pytorch-main\\main_GAIN_VOC.py:307: UserWarning: Implicit dimension choice for softmax has been deprecated. Change the call to include dim=X as an argument.\n",
      "  y_scores = nn.Softmax()(logits_cl[t].detach())\n"
     ]
    },
    {
     "name": "stdout",
     "output_type": "stream",
     "text": [
      "enter sampling\n",
      "enter sampling\n",
      "enter sampling\n",
      "enter sampling\n",
      "enter sampling\n",
      "enter sampling\n",
      "enter sampling\n",
      "enter sampling\n",
      "enter sampling\n"
     ]
    },
    {
     "name": "stderr",
     "output_type": "stream",
     "text": [
      "E:\\workplace\\GAIN-pytorch-main\\models\\batch_GAIN_VOC.py:142: UserWarning: Implicit dimension choice for softmax has been deprecated. Change the call to include dim=X as an argument.\n",
      "  pred = F.softmax(logits_cl).argmax(dim=1)\n",
      "E:\\workplace\\GAIN-pytorch-main\\main_GAIN_VOC.py:393: UserWarning: Implicit dimension choice for softmax has been deprecated. Change the call to include dim=X as an argument.\n",
      "  y_scores = nn.Softmax()(logits_cl[0].detach())\n"
     ]
    },
    {
     "name": "stdout",
     "output_type": "stream",
     "text": [
      "finished epoch number:\n",
      "0\n",
      "10\n",
      "1\n",
      "enter epoch\n",
      "before sampling\n",
      "enter sampling\n",
      "enter sampling\n",
      "enter sampling\n",
      "enter sampling\n",
      "enter sampling\n",
      "enter sampling\n",
      "enter sampling\n",
      "enter sampling\n",
      "enter sampling\n",
      "enter sampling\n",
      "finished epoch number:\n",
      "1\n",
      "10\n",
      "1\n",
      "enter epoch\n",
      "before sampling\n",
      "enter sampling\n",
      "enter sampling\n",
      "enter sampling\n",
      "enter sampling\n",
      "enter sampling\n",
      "enter sampling\n",
      "enter sampling\n",
      "enter sampling\n",
      "enter sampling\n",
      "enter sampling\n",
      "finished epoch number:\n",
      "2\n",
      "10\n",
      "1\n",
      "enter epoch\n",
      "before sampling\n",
      "enter sampling\n",
      "enter sampling\n",
      "enter sampling\n",
      "enter sampling\n",
      "enter sampling\n",
      "enter sampling\n",
      "enter sampling\n",
      "enter sampling\n",
      "enter sampling\n",
      "enter sampling\n"
     ]
    }
   ],
   "source": [
    "torch.cuda.empty_cache()\n",
    "%run main_GAIN_VOC.py --grads_off=0 --npretrain=1 --epoch_size=10 --dataset_path=E:/workplace/GAIN-pytorch-main/VOC-dataset/ --logging_path=E:/workplace/GAIN-pytorch-main/logs/ --logging_name=without_grad --device=cuda:0 --checkpoint_file_path_save=E:/workplace/GAIN-pytorch-main/saveHistory/ --checkpoint_nepoch=1 --nepoch=5 --npretrain=1 --record_itr_train=1 --record_itr_test=1"
   ]
  },
  {
   "cell_type": "markdown",
   "metadata": {
    "id": "cp5KW9JKJBuC"
   },
   "source": [
    "Clean all the files after an update to your repo (if you did one), without affecting your drive (unmounting it temporary) and reclone them."
   ]
  },
  {
   "cell_type": "code",
   "execution_count": 8,
   "metadata": {},
   "outputs": [
    {
     "name": "stdout",
     "output_type": "stream",
     "text": [
      "Register forward hook !\n",
      "Register backward hook !\n",
      "Started\n"
     ]
    },
    {
     "ename": "FileNotFoundError",
     "evalue": "[Errno 2] No such file or directory: 'E:/workplace/GAIN-pytorch-main/VOC-dataset/SegmentationClass/pre_encoded\\\\2011_001858.png'",
     "output_type": "error",
     "traceback": [
      "\u001B[1;31m---------------------------------------------------------------------------\u001B[0m",
      "\u001B[1;31mFileNotFoundError\u001B[0m                         Traceback (most recent call last)",
      "\u001B[1;32mE:\\workplace\\GAIN-pytorch-main\\main_GAIN_VOC_test.py\u001B[0m in \u001B[0;36m<module>\u001B[1;34m\u001B[0m\n\u001B[0;32m    177\u001B[0m \u001B[1;32mif\u001B[0m \u001B[0m__name__\u001B[0m \u001B[1;33m==\u001B[0m \u001B[1;34m'__main__'\u001B[0m\u001B[1;33m:\u001B[0m\u001B[1;33m\u001B[0m\u001B[1;33m\u001B[0m\u001B[0m\n\u001B[0;32m    178\u001B[0m     \u001B[0margs\u001B[0m \u001B[1;33m=\u001B[0m \u001B[0mparser\u001B[0m\u001B[1;33m.\u001B[0m\u001B[0mparse_args\u001B[0m\u001B[1;33m(\u001B[0m\u001B[1;33m)\u001B[0m\u001B[1;33m\u001B[0m\u001B[1;33m\u001B[0m\u001B[0m\n\u001B[1;32m--> 179\u001B[1;33m     \u001B[0mmain\u001B[0m\u001B[1;33m(\u001B[0m\u001B[0margs\u001B[0m\u001B[1;33m)\u001B[0m\u001B[1;33m\u001B[0m\u001B[1;33m\u001B[0m\u001B[0m\n\u001B[0m",
      "\u001B[1;32mE:\\workplace\\GAIN-pytorch-main\\main_GAIN_VOC_test.py\u001B[0m in \u001B[0;36mmain\u001B[1;34m(args)\u001B[0m\n\u001B[0;32m    104\u001B[0m     \u001B[1;31m# get sample[2]: labels->sample['label/idx']->labels\u001B[0m\u001B[1;33m\u001B[0m\u001B[1;33m\u001B[0m\u001B[1;33m\u001B[0m\u001B[0m\n\u001B[0;32m    105\u001B[0m     \u001B[0msegm_path\u001B[0m \u001B[1;33m=\u001B[0m \u001B[0mpjoin\u001B[0m\u001B[1;33m(\u001B[0m\u001B[0margs\u001B[0m\u001B[1;33m.\u001B[0m\u001B[0mdataset_path\u001B[0m\u001B[1;33m,\u001B[0m \u001B[1;34m\"SegmentationClass/pre_encoded\"\u001B[0m\u001B[1;33m)\u001B[0m\u001B[1;33m\u001B[0m\u001B[1;33m\u001B[0m\u001B[0m\n\u001B[1;32m--> 106\u001B[1;33m     \u001B[0msegm\u001B[0m \u001B[1;33m=\u001B[0m \u001B[0mImage\u001B[0m\u001B[1;33m.\u001B[0m\u001B[0mopen\u001B[0m\u001B[1;33m(\u001B[0m\u001B[0mpjoin\u001B[0m\u001B[1;33m(\u001B[0m\u001B[0msegm_path\u001B[0m\u001B[1;33m,\u001B[0m \u001B[0mtest_img\u001B[0m \u001B[1;33m+\u001B[0m \u001B[1;34m\".png\"\u001B[0m\u001B[1;33m)\u001B[0m\u001B[1;33m)\u001B[0m\u001B[1;33m\u001B[0m\u001B[1;33m\u001B[0m\u001B[0m\n\u001B[0m\u001B[0;32m    107\u001B[0m     \u001B[0mtruth\u001B[0m \u001B[1;33m=\u001B[0m \u001B[0mnp\u001B[0m\u001B[1;33m.\u001B[0m\u001B[0masarray\u001B[0m\u001B[1;33m(\u001B[0m\u001B[0msegm\u001B[0m\u001B[1;33m)\u001B[0m\u001B[1;33m\u001B[0m\u001B[1;33m\u001B[0m\u001B[0m\n\u001B[0;32m    108\u001B[0m     \u001B[1;31m# pixel values in truth array skipping pixel value 0(black color): value - 1 == pixel value mapping to its corresponding category\u001B[0m\u001B[1;33m\u001B[0m\u001B[1;33m\u001B[0m\u001B[1;33m\u001B[0m\u001B[0m\n",
      "\u001B[1;32mD:\\Users\\muzihuole\\Anaconda3\\envs\\GANNEW\\lib\\site-packages\\PIL\\Image.py\u001B[0m in \u001B[0;36mopen\u001B[1;34m(fp, mode)\u001B[0m\n\u001B[0;32m   2632\u001B[0m \u001B[1;33m\u001B[0m\u001B[0m\n\u001B[0;32m   2633\u001B[0m     \u001B[1;32mif\u001B[0m \u001B[0mfilename\u001B[0m\u001B[1;33m:\u001B[0m\u001B[1;33m\u001B[0m\u001B[1;33m\u001B[0m\u001B[0m\n\u001B[1;32m-> 2634\u001B[1;33m         \u001B[0mfp\u001B[0m \u001B[1;33m=\u001B[0m \u001B[0mbuiltins\u001B[0m\u001B[1;33m.\u001B[0m\u001B[0mopen\u001B[0m\u001B[1;33m(\u001B[0m\u001B[0mfilename\u001B[0m\u001B[1;33m,\u001B[0m \u001B[1;34m\"rb\"\u001B[0m\u001B[1;33m)\u001B[0m\u001B[1;33m\u001B[0m\u001B[1;33m\u001B[0m\u001B[0m\n\u001B[0m\u001B[0;32m   2635\u001B[0m         \u001B[0mexclusive_fp\u001B[0m \u001B[1;33m=\u001B[0m \u001B[1;32mTrue\u001B[0m\u001B[1;33m\u001B[0m\u001B[1;33m\u001B[0m\u001B[0m\n\u001B[0;32m   2636\u001B[0m \u001B[1;33m\u001B[0m\u001B[0m\n",
      "\u001B[1;31mFileNotFoundError\u001B[0m: [Errno 2] No such file or directory: 'E:/workplace/GAIN-pytorch-main/VOC-dataset/SegmentationClass/pre_encoded\\\\2011_001858.png'"
     ]
    }
   ],
   "source": [
    "torch.cuda.empty_cache()\n",
    "%run main_GAIN_VOC_test.py --grads_off=0 --file_name=2011_001858 --dataset_path=E:/workplace/GAIN-pytorch-main/VOC-dataset/ --logging_path=E:/workplace/GAIN-pytorch-main/logs/test --logging_name=without_sup --device=cuda:0  --checkpoint_file_path_load=E:/workplace/GAIN-pytorch-main/saveHistory/2022-04-24_10-03-36"
   ]
  },
  {
   "cell_type": "code",
   "execution_count": 7,
   "metadata": {
    "colab": {
     "base_uri": "https://localhost:8080/"
    },
    "id": "wYPxa25gXp0b",
    "outputId": "4ae63562-807a-496c-bcfa-13ccaba6d01e",
    "scrolled": true
   },
   "outputs": [
    {
     "name": "stdout",
     "output_type": "stream",
     "text": [
      "Mounted at /content/drive\n",
      "\n"
     ]
    }
   ],
   "source": [
    "from google.colab import drive\n",
    "drive.flush_and_unmount()\n",
    "\n",
    "!rm -r ./*\n",
    "\n",
    "\n",
    "from google.colab import drive\n",
    "drive.mount('/content/drive')\n",
    "\n",
    "shell(\"\"\"\n",
    " git clone https://github.com/ilyak93/GAIN-pytorch/\n",
    " mv ./GAIN-pytorch*/* ./\n",
    " rm -r GAIN-pytorch\n",
    "\n",
    "\"\"\")\n"
   ]
  },
  {
   "cell_type": "code",
   "execution_count": 15,
   "metadata": {},
   "outputs": [
    {
     "ename": "SystemExit",
     "evalue": "2",
     "output_type": "error",
     "traceback": [
      "\u001B[1;31m---------------------------------------------------------------------------\u001B[0m",
      "\u001B[1;31mSystemExit\u001B[0m                                Traceback (most recent call last)",
      "\u001B[1;32mD:\\Users\\muzihuole\\Anaconda3\\envs\\GANNEW\\lib\\site-packages\\IPython\\utils\\py3compat.py\u001B[0m in \u001B[0;36mexecfile\u001B[1;34m(fname, glob, loc, compiler)\u001B[0m\n\u001B[0;32m    166\u001B[0m     \u001B[1;32mwith\u001B[0m \u001B[0mopen\u001B[0m\u001B[1;33m(\u001B[0m\u001B[0mfname\u001B[0m\u001B[1;33m,\u001B[0m \u001B[1;34m'rb'\u001B[0m\u001B[1;33m)\u001B[0m \u001B[1;32mas\u001B[0m \u001B[0mf\u001B[0m\u001B[1;33m:\u001B[0m\u001B[1;33m\u001B[0m\u001B[1;33m\u001B[0m\u001B[0m\n\u001B[0;32m    167\u001B[0m         \u001B[0mcompiler\u001B[0m \u001B[1;33m=\u001B[0m \u001B[0mcompiler\u001B[0m \u001B[1;32mor\u001B[0m \u001B[0mcompile\u001B[0m\u001B[1;33m\u001B[0m\u001B[1;33m\u001B[0m\u001B[0m\n\u001B[1;32m--> 168\u001B[1;33m         \u001B[0mexec\u001B[0m\u001B[1;33m(\u001B[0m\u001B[0mcompiler\u001B[0m\u001B[1;33m(\u001B[0m\u001B[0mf\u001B[0m\u001B[1;33m.\u001B[0m\u001B[0mread\u001B[0m\u001B[1;33m(\u001B[0m\u001B[1;33m)\u001B[0m\u001B[1;33m,\u001B[0m \u001B[0mfname\u001B[0m\u001B[1;33m,\u001B[0m \u001B[1;34m'exec'\u001B[0m\u001B[1;33m)\u001B[0m\u001B[1;33m,\u001B[0m \u001B[0mglob\u001B[0m\u001B[1;33m,\u001B[0m \u001B[0mloc\u001B[0m\u001B[1;33m)\u001B[0m\u001B[1;33m\u001B[0m\u001B[1;33m\u001B[0m\u001B[0m\n\u001B[0m\u001B[0;32m    169\u001B[0m \u001B[1;33m\u001B[0m\u001B[0m\n\u001B[0;32m    170\u001B[0m \u001B[1;31m# Refactor print statements in doctests.\u001B[0m\u001B[1;33m\u001B[0m\u001B[1;33m\u001B[0m\u001B[1;33m\u001B[0m\u001B[0m\n",
      "\u001B[1;32mE:\\workplace\\GAIN-pytorch-main\\main_GAIN_VOC_test.py\u001B[0m in \u001B[0;36m<module>\u001B[1;34m\u001B[0m\n\u001B[0;32m    183\u001B[0m \u001B[1;33m\u001B[0m\u001B[0m\n\u001B[0;32m    184\u001B[0m \u001B[1;32mif\u001B[0m \u001B[0m__name__\u001B[0m \u001B[1;33m==\u001B[0m \u001B[1;34m'__main__'\u001B[0m\u001B[1;33m:\u001B[0m\u001B[1;33m\u001B[0m\u001B[1;33m\u001B[0m\u001B[0m\n\u001B[1;32m--> 185\u001B[1;33m     \u001B[0margs\u001B[0m \u001B[1;33m=\u001B[0m \u001B[0mparser\u001B[0m\u001B[1;33m.\u001B[0m\u001B[0mparse_args\u001B[0m\u001B[1;33m(\u001B[0m\u001B[1;33m)\u001B[0m\u001B[1;33m\u001B[0m\u001B[1;33m\u001B[0m\u001B[0m\n\u001B[0m\u001B[0;32m    186\u001B[0m     \u001B[0mmain\u001B[0m\u001B[1;33m(\u001B[0m\u001B[0margs\u001B[0m\u001B[1;33m)\u001B[0m\u001B[1;33m\u001B[0m\u001B[1;33m\u001B[0m\u001B[0m\n",
      "\u001B[1;32mD:\\Users\\muzihuole\\Anaconda3\\envs\\GANNEW\\lib\\argparse.py\u001B[0m in \u001B[0;36mparse_args\u001B[1;34m(self, args, namespace)\u001B[0m\n\u001B[0;32m   1756\u001B[0m         \u001B[1;32mif\u001B[0m \u001B[0margv\u001B[0m\u001B[1;33m:\u001B[0m\u001B[1;33m\u001B[0m\u001B[1;33m\u001B[0m\u001B[0m\n\u001B[0;32m   1757\u001B[0m             \u001B[0mmsg\u001B[0m \u001B[1;33m=\u001B[0m \u001B[0m_\u001B[0m\u001B[1;33m(\u001B[0m\u001B[1;34m'unrecognized arguments: %s'\u001B[0m\u001B[1;33m)\u001B[0m\u001B[1;33m\u001B[0m\u001B[1;33m\u001B[0m\u001B[0m\n\u001B[1;32m-> 1758\u001B[1;33m             \u001B[0mself\u001B[0m\u001B[1;33m.\u001B[0m\u001B[0merror\u001B[0m\u001B[1;33m(\u001B[0m\u001B[0mmsg\u001B[0m \u001B[1;33m%\u001B[0m \u001B[1;34m' '\u001B[0m\u001B[1;33m.\u001B[0m\u001B[0mjoin\u001B[0m\u001B[1;33m(\u001B[0m\u001B[0margv\u001B[0m\u001B[1;33m)\u001B[0m\u001B[1;33m)\u001B[0m\u001B[1;33m\u001B[0m\u001B[1;33m\u001B[0m\u001B[0m\n\u001B[0m\u001B[0;32m   1759\u001B[0m         \u001B[1;32mreturn\u001B[0m \u001B[0margs\u001B[0m\u001B[1;33m\u001B[0m\u001B[1;33m\u001B[0m\u001B[0m\n\u001B[0;32m   1760\u001B[0m \u001B[1;33m\u001B[0m\u001B[0m\n",
      "\u001B[1;32mD:\\Users\\muzihuole\\Anaconda3\\envs\\GANNEW\\lib\\argparse.py\u001B[0m in \u001B[0;36merror\u001B[1;34m(self, message)\u001B[0m\n\u001B[0;32m   2506\u001B[0m         \u001B[0mself\u001B[0m\u001B[1;33m.\u001B[0m\u001B[0mprint_usage\u001B[0m\u001B[1;33m(\u001B[0m\u001B[0m_sys\u001B[0m\u001B[1;33m.\u001B[0m\u001B[0mstderr\u001B[0m\u001B[1;33m)\u001B[0m\u001B[1;33m\u001B[0m\u001B[1;33m\u001B[0m\u001B[0m\n\u001B[0;32m   2507\u001B[0m         \u001B[0margs\u001B[0m \u001B[1;33m=\u001B[0m \u001B[1;33m{\u001B[0m\u001B[1;34m'prog'\u001B[0m\u001B[1;33m:\u001B[0m \u001B[0mself\u001B[0m\u001B[1;33m.\u001B[0m\u001B[0mprog\u001B[0m\u001B[1;33m,\u001B[0m \u001B[1;34m'message'\u001B[0m\u001B[1;33m:\u001B[0m \u001B[0mmessage\u001B[0m\u001B[1;33m}\u001B[0m\u001B[1;33m\u001B[0m\u001B[1;33m\u001B[0m\u001B[0m\n\u001B[1;32m-> 2508\u001B[1;33m         \u001B[0mself\u001B[0m\u001B[1;33m.\u001B[0m\u001B[0mexit\u001B[0m\u001B[1;33m(\u001B[0m\u001B[1;36m2\u001B[0m\u001B[1;33m,\u001B[0m \u001B[0m_\u001B[0m\u001B[1;33m(\u001B[0m\u001B[1;34m'%(prog)s: error: %(message)s\\n'\u001B[0m\u001B[1;33m)\u001B[0m \u001B[1;33m%\u001B[0m \u001B[0margs\u001B[0m\u001B[1;33m)\u001B[0m\u001B[1;33m\u001B[0m\u001B[1;33m\u001B[0m\u001B[0m\n\u001B[0m",
      "\u001B[1;32mD:\\Users\\muzihuole\\Anaconda3\\envs\\GANNEW\\lib\\argparse.py\u001B[0m in \u001B[0;36mexit\u001B[1;34m(self, status, message)\u001B[0m\n\u001B[0;32m   2493\u001B[0m         \u001B[1;32mif\u001B[0m \u001B[0mmessage\u001B[0m\u001B[1;33m:\u001B[0m\u001B[1;33m\u001B[0m\u001B[1;33m\u001B[0m\u001B[0m\n\u001B[0;32m   2494\u001B[0m             \u001B[0mself\u001B[0m\u001B[1;33m.\u001B[0m\u001B[0m_print_message\u001B[0m\u001B[1;33m(\u001B[0m\u001B[0mmessage\u001B[0m\u001B[1;33m,\u001B[0m \u001B[0m_sys\u001B[0m\u001B[1;33m.\u001B[0m\u001B[0mstderr\u001B[0m\u001B[1;33m)\u001B[0m\u001B[1;33m\u001B[0m\u001B[1;33m\u001B[0m\u001B[0m\n\u001B[1;32m-> 2495\u001B[1;33m         \u001B[0m_sys\u001B[0m\u001B[1;33m.\u001B[0m\u001B[0mexit\u001B[0m\u001B[1;33m(\u001B[0m\u001B[0mstatus\u001B[0m\u001B[1;33m)\u001B[0m\u001B[1;33m\u001B[0m\u001B[1;33m\u001B[0m\u001B[0m\n\u001B[0m\u001B[0;32m   2496\u001B[0m \u001B[1;33m\u001B[0m\u001B[0m\n\u001B[0;32m   2497\u001B[0m     \u001B[1;32mdef\u001B[0m \u001B[0merror\u001B[0m\u001B[1;33m(\u001B[0m\u001B[0mself\u001B[0m\u001B[1;33m,\u001B[0m \u001B[0mmessage\u001B[0m\u001B[1;33m)\u001B[0m\u001B[1;33m:\u001B[0m\u001B[1;33m\u001B[0m\u001B[1;33m\u001B[0m\u001B[0m\n",
      "\u001B[1;31mSystemExit\u001B[0m: 2"
     ]
    }
   ],
   "source": [
    "%tb"
   ]
  },
  {
   "cell_type": "code",
   "execution_count": null,
   "metadata": {},
   "outputs": [],
   "source": []
  }
 ],
 "metadata": {
  "accelerator": "GPU",
  "colab": {
   "collapsed_sections": [],
   "machine_shape": "hm",
   "name": "GAIN_notebook.ipynb",
   "provenance": []
  },
  "kernelspec": {
   "display_name": "Python 3 (ipykernel)",
   "language": "python",
   "name": "python3"
  },
  "language_info": {
   "codemirror_mode": {
    "name": "ipython",
    "version": 3
   },
   "file_extension": ".py",
   "mimetype": "text/x-python",
   "name": "python",
   "nbconvert_exporter": "python",
   "pygments_lexer": "ipython3",
   "version": "3.7.7"
  },
  "title": "236299 Project Segment 3: Parsing – The CKY Algorithm"
 },
 "nbformat": 4,
 "nbformat_minor": 1
}